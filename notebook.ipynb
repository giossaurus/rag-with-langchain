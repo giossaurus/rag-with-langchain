{
 "cells": [
  {
   "cell_type": "markdown",
   "id": "23ebab0d",
   "metadata": {},
   "source": [
    "Conversando com documentos (nesse caso PDFs) usando Python e LangChain com LLMs como GPT-4 ou Claude.\n",
    "\n",
    "Objetivos:\n",
    "- Como carregar e armazenar documentos PDF com LangChain.\n",
    "- Criar pipelines de consulta para interagir com os documentos.\n",
    "- Criar um bloco de perguntas e respostas (Q&A) simples."
   ]
  },
  {
   "cell_type": "markdown",
   "id": "38e27e66",
   "metadata": {},
   "source": []
  }
 ],
 "metadata": {
  "language_info": {
   "name": "python"
  }
 },
 "nbformat": 4,
 "nbformat_minor": 5
}
